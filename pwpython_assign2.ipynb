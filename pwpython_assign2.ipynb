{
  "nbformat": 4,
  "nbformat_minor": 0,
  "metadata": {
    "colab": {
      "provenance": []
    },
    "kernelspec": {
      "name": "python3",
      "display_name": "Python 3"
    },
    "language_info": {
      "name": "python"
    }
  },
  "cells": [
    {
      "cell_type": "markdown",
      "source": [
        "# Assignment on - Data Types and Structures"
      ],
      "metadata": {
        "id": "Ye8oK--nxJaK"
      }
    },
    {
      "cell_type": "markdown",
      "source": [
        "###Theorotical Questions - 20"
      ],
      "metadata": {
        "id": "K0q35IzV1cAD"
      }
    },
    {
      "cell_type": "markdown",
      "source": [
        "1. What are data structures, and why are they important ?\n",
        "- Ans: Data Structures are a way of organizing data so that it can be accessed more efficiently depending upon the situation. Data Structures are fundamentals of any programming language around which a program is built.They define the relationship between the data and the operations that can be performed on the data\n",
        "- Major data types in Python : String, Lists, Tuple, Set, Dictionary etc."
      ],
      "metadata": {
        "id": "74mD1eU5xRt6"
      }
    },
    {
      "cell_type": "markdown",
      "source": [
        "2. Explain the difference between mutable and immutable data types with examples\n",
        " - Ans :\n",
        " -Mutable Data Types : These are data types whose values can be modified after they are created. Ex:- List, Dictionary, Set\n",
        " -Immutable Data Types : These are data types whose values cannot be altered once they are set. Ex:- String, Tuple\n",
        " Maor difference between Mutable and Immutale data type\n",
        "- Mutable data objects memory allocation can modify in place without creating a new object where as immutable datatype require a new object to be created for modification and leaves the original object unchanged.\n",
        "\n",
        "- Mutable data objects are not hashable, so they cannot be used as keys in dictionaries or elements in sets Where as immutable data objects are hashable, making them suitable as dictionary keys or set elements.\n",
        "- ex1.  Modifying the mutable object LIST.  \n",
        "        list1= [1,2,3,8] # modifying the mutable object.  \n",
        "        list1[2] = 6 # modifies 3 to 6 in the above list.\n",
        "        print(list1)\n",
        "        o/p - [1, 2, 6, 8].\n",
        "        This implies LIST objects can be modified.\n",
        "    \n",
        "\n",
        "- Ex.2. Trying to modify the immutable object String.\n",
        "      str1=\"PWSKILLS\"\n",
        "      str1[1] = \"M\" #trying replace W with M.\n",
        "      \n",
        "      O/p - Will get an error \"TypeError: 'str' object does not support item assignment\". This implies STRING objects cannot be modified."
      ],
      "metadata": {
        "id": "_JVsHb490ihC"
      }
    },
    {
      "cell_type": "markdown",
      "source": [
        "3. What are the main differences between lists and tuples in Python?\n",
        "-Ans : In Python, lists and tuples both store collections of data, but differ in mutability, performance and memory usage. Lists are mutable, allowing modifications, while tuples are immutable. Choosing between them depends on whether you need to modify the data or prioritize performance and memory efficiency.\n",
        "- Lists are mutable(can be modified) where as Tuples are immutable(cannot be modified).\n",
        "- Iteration over lists is time-consuming where as tuple is faster.\n",
        "-Lists are better for performing operations, such as insertion and deletion where as Tuples are more suitable for accessing elements efficiently.\n",
        "-Lists consume more memory where as Tuples consumes less memory.\n",
        "- Lists have several built-in methods where as Tuples have fewer built-in methods.\n",
        "- Lists are more prone to unexpected changes and errors where as Tuples, being immutable are less error prone.\n",
        "- Lists are not hashable, so they cannot be used as keys in dictionaries or elements in sets Where as Tuples are hashable, making them suitable as dictionary keys or set elements."
      ],
      "metadata": {
        "id": "lNr3IUwf_TZk"
      }
    },
    {
      "cell_type": "markdown",
      "source": [
        "4. Describe how dictionaries store data ?.\n",
        "\n",
        "- Ans: Dictionaries are used to store data values in key:value pairs.\n",
        "Dictionary items are ordered, changeable, and do not allow duplicates.Dictionaries are written with curly brackets, and have keys and values.\n",
        "\n",
        "- Ex. 1.\n",
        "       thisdict = {\"brand\": \"NIBAV\",\"model\": \"Series V\",\"year\": 2025}.\n",
        "       print(thisdict)\n",
        "       o/p - {'brand': 'NIBAV', 'model': 'Series V', 'year': 2025}"
      ],
      "metadata": {
        "id": "eHMDW0rDBigF"
      }
    },
    {
      "cell_type": "markdown",
      "source": [
        "5. Why might you use a set instead of a list in Python ?\n",
        "- Ans:\n",
        "-A set in Python is an unordered collection of unique elements, while a list is an ordered collection that can contain duplicate elements. Sets are optimized for checking membership and removing duplicates, making them more efficient than lists for specific tasks.\n",
        "-Membership tests check whether a specific element is contained in a sequence, such as strings, lists, tuples, or sets. One of the main advantages of using sets in Python is that they are highly optimized for membership tests. For example, sets do membership tests a lot more efficiently than lists.\n",
        "-Sets provide built-in support for set operations like union, intersection, difference, and symmetric difference. These operations are efficient and convenient for tasks involving comparing and combining collections of unique elements."
      ],
      "metadata": {
        "id": "UqQR9pWUULGP"
      }
    },
    {
      "cell_type": "markdown",
      "source": [
        "6. What is a string in Python, and how is it different from a list ?\n",
        "- Ans: In Python, strings are used for representing textual data. A string in Python is a sequence of characters, which can be letters, numbers, symbols, or spaces. It is used to represent text and is enclosed within either single quotes ('...'), double quotes (\"...\"), or triple quotes ('''...''' or \"\"\"...\"\"\"). Strings are immutable, meaning their value cannot be changed after creation. Any operation that appears to modify a string actually creates a new string.\n",
        "- EX.\n",
        "\n",
        "     string1 = 'Hello, World!'\n",
        "\n",
        "     string2 = \"Python is fun\"\n",
        "\n",
        "     string3 = \"\"\"This is a multi-line\n",
        "     string using triple quotes.\"\"\"\n",
        "\n",
        "- On the other hand Lists are represented by square brackets and can contain multiple elements of heterogenous data types separated by commas.\n",
        " - Ex. list1= [1,\"Aladin\", True, 26]\n",
        "\n",
        " The major difference between STRING and LIST are as follows\n",
        "\n",
        " - Strings are immutable, meaning they cannot be changed once created, while lists are mutable and can be modified as needed.\n",
        " - Strings have a fixed length, while lists can dynamically grow or shrink in size by adding or removing elements.\n",
        " - Operations like concatenation (+) and repetition (*) work differently for strings and lists. Concatenating strings will merge them together, while concatenating lists will combine their elements.\n",
        " -  Strings can be indexed and sliced to access individual characters or substrings, while lists can be accessed using indices to retrieve or modify elements.\n",
        " - Strings are useful for representing textual data, while lists are versatile data structures that can store different types of elements.\n",
        " - String formatting allows for creating formatted output using placeholders, while lists can be formatted directly by converting them to strings.\n"
      ],
      "metadata": {
        "id": "QfCnK7i8Vz5m"
      }
    },
    {
      "cell_type": "markdown",
      "source": [
        "7. How do tuples ensure data integrity in Python ?\n",
        "- Ans: Tuples are immutable to ensure that their contents remain constant throughout their lifecycle, guaranteeing data integrity and reliability. This immutability allows tuples to be used as keys in dictionaries and elements in sets, as they can be hashed. Additionally, immutability can lead to performance optimizations, as Python can store and access tuples more efficiently than mutable data structures like lists.\n",
        "- Tuple objects in Python are those whose values cannot be changed after they are created. If a modification appears to happen, a new object is created instead. This characteristic ensures data integrity and predictability."
      ],
      "metadata": {
        "id": "44cnuaUJezUp"
      }
    },
    {
      "cell_type": "markdown",
      "source": [
        "8. What is a hash table, and how does it relate to dictionaries in Python ?\n",
        "- Ans : Hash tables are a type of data structure in which the address or the index value of the data element is generated from a hash function. That makes accessing the data faster as the index value behaves as a key for the data value. In other words Hash table stores key-value pairs but the key is generated through a hashing function.\n",
        "- In Python, the Dictionary data types represented by key-value pair. And its the implementation of hash table. Where the keys of the dictionary are hashable i.e. the are generated by hashing function which generates unique result for each unique value supplied to the hash function.\n",
        "- Ex. # Declare a dictionary\n",
        "      dict = {'Name': 'Zara', 'Age': 7, 'Class': 'First'}\n",
        "      Accessing the dictionary with its key\n",
        "      print (dict['Name']) #Accessing the dictionary value with its key\n",
        "      print (dict['Age'])\n",
        "\n",
        "      o/p - Zara\n",
        "            7"
      ],
      "metadata": {
        "id": "S_OqyeYLiWNf"
      }
    },
    {
      "cell_type": "markdown",
      "source": [
        "9. Can lists contain different data types in Python ?\n",
        "- Ans :Yes, lists in Python are capable of containing elements of different data types. A single list can hold integers, strings, floats, booleans, and even other lists, dictionaries, or tuples. This flexibility is a key feature of Python lists. While it's possible to mix data types in a list, it's often best practice to keep the elements of a list consistent in type, especially when performing operations on the list's elements.\n",
        "- Ex.\n",
        "      my_list = [1, \"hello\", 3.14, True, [1, 2, 3]]\n",
        "      print(my_list)\n",
        "      \n",
        "      o/p : [1, \"hello\", 3.14, True, [1, 2, 3]]"
      ],
      "metadata": {
        "id": "AbysNijekZAH"
      }
    },
    {
      "cell_type": "markdown",
      "source": [
        "10. Explain why strings are immutable in Python ?\n",
        "- Ans : Strings in Python are “immutable” because they can not be changed after they are created. When a string is modified, instead of altering the original string in memory, Python creates a new string object with the updated value. The original string remains unchanged.\n",
        "-Ex.\n",
        "       name_1 = \"Aladin\"\n",
        "       name_1[0] = 'T' # trying to modify the string we will get error\n",
        "\n",
        "       o/p : \"TypeError: 'str' object does not support item assignment\""
      ],
      "metadata": {
        "id": "E2Zoi4gTlQOt"
      }
    },
    {
      "cell_type": "markdown",
      "source": [
        "11. What advantages do dictionaries offer over lists for certain tasks ?\n",
        "- Ans : The major advantage of dictionaries over list is that Dictionaries provide faster lookups compared to lists when searching by key.\n",
        "-Dictionarys have two parts to every entry the key and the value and these are stored as pairs. This can give you more flexibility when storing and retrieving data. The primary advantage would be retrieving stored values as it is much simpler to search through a dictionary.\n",
        "-Dictionaries cannot contain duplicate keys but can contain duplicate values since each value has unique key where as Lists can duplicate values since each values have unique index."
      ],
      "metadata": {
        "id": "O_nmBqlUmxVO"
      }
    },
    {
      "cell_type": "markdown",
      "source": [
        "12. Describe a scenario where using a tuple would be preferable over a list ?\n",
        "- Ans : Tuples are immutable. Hence, they are primarily used to store data that doesn't change frequently. Any operation can store data in a tuple when you don't want it to change. Tuples are great to use if you want the data in your collection to be read-only, never to change, and always remain the same and constant.\n",
        "\n",
        "scenarios where using a tuple would be preferable over a list\n",
        "- Data integrity: Specilly while creating record like unique identification records like ADHAAR and for Birth and death records etc. using a list might compromise data integrity due to its mutable nature.\n",
        "- Dictionary keys:uples can be used as keys in dictionaries, unlike lists, because they are hashable. This is useful in scenarios where you need to associate values with a combination of immutable attributes.\n",
        "- Lightweight data structures:uples consume less memory compared to lists. They are suitable for scenarios with a large number of small, fixed-size data structures.\n",
        "-Geographic coordinates: Tuples are useful to represent coordinates since they should not be modified."
      ],
      "metadata": {
        "id": "F610fk7CpOYF"
      }
    },
    {
      "cell_type": "markdown",
      "source": [
        "13. How do sets handle duplicate values in Python ?\n",
        "- Ans : Python set is an unordered collection of multiple items having different datatypes. In Python, sets are mutable, unindexed and do not contain duplicates. The order of elements in a set is not preserved and can change.\n",
        "- Sets in Python are designed to store only unique elements. When a user attempts to add a duplicate value to a set, Python automatically ignores it, ensuring that the set maintains its uniqueness property. This behavior makes sets a useful tool for tasks such as removing duplicates from a list or checking for the presence of unique elements in a collection.\n",
        "-Ex.\n",
        "     my_set = {1, 2, 2, 3, 4, 4, 5}\n",
        "     print(my_set)  # Added duplicate items in set to check\n",
        "     \n",
        "     O/p: {1, 2, 3, 4, 5}\n",
        "     \n",
        "\n",
        "  \n",
        "\n"
      ],
      "metadata": {
        "id": "pVgbEpYxt3Iq"
      }
    },
    {
      "cell_type": "markdown",
      "source": [
        "14. How does the “in” keyword work differently for lists and dictionaries ?\n",
        "- Ans : The in operator in Python is a membership operator used to check if a value is part of a collection. When used, the 'in' operator returns a boolean value \"True\" if the element is found in the specified sequence and \"False\" otherwise.\n",
        "- In Operation on Lists\n",
        "For lists, the in operator iterates through the elements until it finds a match or reaches the end.\n",
        "- Ex.\n",
        "      my_list = [10, 20, 30, 40, 50]\n",
        "      print(20 in my_list) #element 20 present in the list gives result as True.\n",
        "      o/p :  True\n",
        "      print(60 in my_list)  #element 60 not present in the list gives result as False.\n",
        "      o/p : False\n",
        "-For dictionaries the in operator checks if a value exists as a key. It does not search for values within the dictionary's values.\n",
        "-Ex.\n",
        "       my_dict = {\"a\": 1, \"b\": 2, \"c\": 3}\n",
        "       print(\"b\" in my_dict)  #Checking the key presence in the dictionary\n",
        "       o/p : True\n",
        "       print(2 in my_dict)  #checking the value presence in the dictionary\n",
        "       o/p : False\n",
        "-To check for a value in the dictionary's values, you can use the .values() method in conjunction with the in operator.\n",
        "-Ex.\n",
        "     my_dict = {\"a\": 1, \"b\": 2, \"c\": 3}\n",
        "     print(2 in my_dict.values()) #checking the value presence in the dictionary\n",
        "     Output: True"
      ],
      "metadata": {
        "id": "lmtzb_YSyNQ3"
      }
    },
    {
      "cell_type": "markdown",
      "source": [
        "15. Can you modify the elements of a tuple? Explain why or why not ?\n",
        "- Ans : No, you cannot directly modify the elements of a tuple in Python. Tuples are immutable data types, meaning their elements cannot be changed once they are created. Once a tuple is created, its elements remain fixed. You cannot add, remove, or replace elements within the tuple itself. Attempting to modify a tuple's elements will result in a TypeError: 'tuple' object does not support item assignment error.\n",
        "- Ex.\n",
        "      my_tuple = (1, 2, 3)\n",
        "      my_tuple[0] = 4  # This will cause an error\n",
        "      o/p : TypeError: 'tuple' object does not support item assignment\n",
        "- But we can replace the entire tuple: We can replace an entire tuple with a new one. This means creating a new tuple with the desired changes and assigning it to the original tuple variable will replace the complete set of elements.\n",
        "-Ex.\n",
        "       my_tuple = (1, 2, 3)\n",
        "       new_tuple = (4, 2, 3)\n",
        "       my_tuple = new_tuple\n",
        "       print(my_tuple)  #\n",
        "       o/p : (4, 2, 3)\n",
        "\n",
        "- Converting to a list: We can convert the tuple to a list (which is mutable), modify the elements in the list, and then convert the list back to a tuple. will update the elements. Original tuple items will remain same\n",
        "-Ex.\n",
        "       my_tuple = (1, 2, 3)\n",
        "       my_list = list(my_tuple) # converting tuple to list\n",
        "       my_list[1] = 4  # Replace the second element with 4\n",
        "       new_tuple = tuple(my_list) # converting list back to tuple.\n",
        "       print(new_tuple) # Original tuple item are changed and stored in other tuple\n",
        "       o/p : (1, 4, 3)\n",
        "\n"
      ],
      "metadata": {
        "id": "pmUKyOe52fk0"
      }
    },
    {
      "cell_type": "markdown",
      "source": [
        "16. What is a nested dictionary, and give an example of its use case ?\n",
        "- Ans : A dictionary can contain dictionaries as values , this is called nested dictionaries. A nested dictionary in Python is a dictionary where the values are themselves dictionaries. This allows for structuring data in a hierarchical way, where you can store complex, multi-layered information. A common use case is representing hierarchical data like family trees or organizational charts.\n",
        "- Nested dictionaries excel at representing data with multiple layers of organization. Some common use cases include.\n",
        "    - Employee Records: Organize employees by department, with each employee’s details in a nested dictionary.\n",
        "    - Inventory Systems: Track product categories, subcategories, and individual product details.\n",
        "    - Representing a family tree: To store the detail of family members of many generation and branches.\n",
        "\n",
        "    - Ex. Using nested dictionary to represent a family of 3 childens with their detail include name and year\n",
        "           -Ex.\n",
        "            myfamily = {\"child1\" : {\"name\" : \"Aladin\",\"year\" : 2004},\"child2\" : {\"name\" : \"Sohil\",\"year\" : 2007},\"child3\" : {\"name\" : \"yunus\",\"year\" : 2011}}\n",
        "\n",
        "            o/p : {'child1': {'name': 'Aladin', 'year': 2004},\n",
        "                   'child2': {'name': 'Sohil', 'year': 2007},\n",
        "                   'child3': {'name': 'yunus', 'year': 2011}}\n"
      ],
      "metadata": {
        "id": "lAR5hhGIWspZ"
      }
    },
    {
      "cell_type": "markdown",
      "source": [
        "17. Describe the time complexity of accessing elements in a dictionary ?\n",
        "- Ans : Accessing elements in a Python dictionary has an average time complexity of O(1), which is considered constant time. This means that, on average, the time it takes to access an element does not depend on the size of the dictionary. Python dictionaries are implemented as hash tables, which allow for fast lookups using keys.\n",
        "- However, in the worst-case scenario, if there are many collisions in the hash function, the time complexity can degrade to O(n), where n is the number of elements in the dictionary. This occurs when multiple keys hash to the same index, forcing the dictionary to search through a list of elements at that index.\n",
        "- Despite the possibility of O(n) time complexity in the worst case, the average case remains O(1) due to the efficiency of the hash table implementation and the typically low occurrence of collisions. Therefore, accessing elements in a Python dictionary is generally very fast."
      ],
      "metadata": {
        "id": "yPpHC0mLml0G"
      }
    },
    {
      "cell_type": "markdown",
      "source": [
        "18.  In what situations are lists preferred over dictionaries ?\n",
        "- Ans :\n",
        "- Order matters : Lists maintain insertion order prefered over list when the order of the elements is important.\n",
        "- Storing items without explicit labels (keys): Lists are great for homogeneous collections like [ 1, 2, 3 ],  [ 'apple', 'banana' ]. where as dictionary stored as key-value pairs.\n",
        "- Durig less memory availability :Lists are more memory-efficient than dictionaries for small collections. Dictionaries require more memory, as they store keys along with values, unlike lists.\n",
        "- List prefered when order based operation are important like sorting, appending or inserting at a perticular index.\n",
        "-List prefered when data doesnt require a mapping relationship. If you just have values without needing a label/identifier, a list is simpler.\n",
        "- List prefered while performing indexed based access: Lists are faster for index-based access, as retrieving an element by index takes O(1), whereas dictionary lookups require computing a hash.\n",
        "\n",
        "\n"
      ],
      "metadata": {
        "id": "gfExu7i-neg0"
      }
    },
    {
      "cell_type": "markdown",
      "source": [
        "19. Why are dictionaries considered unordered, and how does that affect data retrieval ?\n",
        "- Dictionaries are conceptually unordered because their structure is based on hashing, not sequence. They store elements as key-value pairs based on the hash of the key, not the order of entry. This allows O(1) average-case time complexity for lookups, inserts, and deletes.\n",
        "- Hash table enables the faster access of the value using the key. When we access a value with key, It computes the hash of 'key' Jumps directly to the location in memory (bucket) where the value is stored.\n",
        "-Hence for key-based lookups, dictionaries are one of the fastest data structures in Python."
      ],
      "metadata": {
        "id": "mcgZESMMtQ30"
      }
    },
    {
      "cell_type": "markdown",
      "source": [
        "20. Explain the difference between a list and a dictionary in terms of data retrieval.\n",
        "- Ans : In terms of data retrieval, a dictionary excels at fast lookups by key, while a list is better suited for sequential access by index. Dictionaries use a hash-based approach, allowing for nearly instantaneous retrieval of a value when the key is known, whereas lists require traversing the list sequentially until the desired element is found.\n",
        "- List retrieve elements by their numerical index within the list. For example, my_list[2] would access the third element in the list. Where as Dictionaries retrieve elements by their associated key. For example, my_dictionary[\"name\"] would retrieve the value associated with the key \"name\".\n",
        "- Data retrieval time is directly proportional in Lists as element need to be checked one by one bigger data increases the time of retrieval where as dictionaries data retrieval time is depends on the hash table and is very fast due to the use of a hash table.\n",
        "- In List Accessing an element by index is typically a very fast operation and in Dictionary accessing an element by key is typically a very fast operation."
      ],
      "metadata": {
        "id": "a9WeuAouwvUI"
      }
    },
    {
      "cell_type": "markdown",
      "source": [
        "### #Practical Questions\n",
        "\n"
      ],
      "metadata": {
        "id": "Q9PrX-_az6cz"
      }
    },
    {
      "cell_type": "code",
      "source": [
        "# 1.Write a code to create a string with your name and print itP\n",
        "name = \"Aladin\"\n",
        "print(name)\n"
      ],
      "metadata": {
        "colab": {
          "base_uri": "https://localhost:8080/"
        },
        "id": "yhu1fQPv15vV",
        "outputId": "eaa0a2cb-0d45-4f3c-d7a8-75e3a438cf9c"
      },
      "execution_count": 17,
      "outputs": [
        {
          "output_type": "stream",
          "name": "stdout",
          "text": [
            "Aladin\n"
          ]
        }
      ]
    },
    {
      "cell_type": "code",
      "source": [
        "# 2. Write a code to find the length of the string \"Hello World\"\n",
        "str_1= \"Hello World\"\n",
        "print(len(str_1))"
      ],
      "metadata": {
        "id": "rClD2KM_6aRG",
        "colab": {
          "base_uri": "https://localhost:8080/"
        },
        "outputId": "ac81f017-5640-4da1-ac9f-b1f9a04102da"
      },
      "execution_count": 18,
      "outputs": [
        {
          "output_type": "stream",
          "name": "stdout",
          "text": [
            "11\n"
          ]
        }
      ]
    },
    {
      "cell_type": "code",
      "source": [
        "# 3. Write a code to slice the first 3 characters from the string \"Python Programming\".\n",
        "my_str= \"Python Programming\"\n",
        "print(my_str)\n",
        "print(my_str[0:3])"
      ],
      "metadata": {
        "colab": {
          "base_uri": "https://localhost:8080/"
        },
        "id": "gSXOZmJI26Xr",
        "outputId": "55259718-076e-4b5e-e080-929f977a1f45"
      },
      "execution_count": 97,
      "outputs": [
        {
          "output_type": "stream",
          "name": "stdout",
          "text": [
            "Python Programming\n",
            "Pyt\n"
          ]
        }
      ]
    },
    {
      "cell_type": "code",
      "source": [
        "# 4. Write a code to convert the string \"hello\" to uppercaseP\n",
        "my_str2 =\"hello\"\n",
        "print(my_str2)\n",
        "print(my_str2.upper())"
      ],
      "metadata": {
        "colab": {
          "base_uri": "https://localhost:8080/"
        },
        "id": "X1HTz4aQ3RUp",
        "outputId": "b714a6f2-ff2c-4dd1-b2cf-0eef54dbfbfe"
      },
      "execution_count": 96,
      "outputs": [
        {
          "output_type": "stream",
          "name": "stdout",
          "text": [
            "hello\n",
            "HELLO\n"
          ]
        }
      ]
    },
    {
      "cell_type": "code",
      "source": [
        "# 5.Write a code to replace the word \"apple\" with \"orange\" in the string \"I like apple\"\n",
        "my_str3= \"I like apple\"\n",
        "print(my_str3)\n",
        "print(my_str3.replace(\"apple\",\"orange\"))"
      ],
      "metadata": {
        "colab": {
          "base_uri": "https://localhost:8080/"
        },
        "id": "SF8xULpv3nkb",
        "outputId": "42cb3b79-1abb-45ce-87bd-fbbb1df52696"
      },
      "execution_count": 95,
      "outputs": [
        {
          "output_type": "stream",
          "name": "stdout",
          "text": [
            "I like apple\n",
            "I like orange\n"
          ]
        }
      ]
    },
    {
      "cell_type": "code",
      "source": [
        "# 6. Write a code to create a list with numbers 1 to 5 and print it\n",
        "my_list1=[1,2,3,4,5]\n",
        "print(my_list1)"
      ],
      "metadata": {
        "colab": {
          "base_uri": "https://localhost:8080/"
        },
        "id": "qHGymllT4G_W",
        "outputId": "65039750-ba12-4ebd-eb33-04c48b53f47f"
      },
      "execution_count": 22,
      "outputs": [
        {
          "output_type": "stream",
          "name": "stdout",
          "text": [
            "[1, 2, 3, 4, 5]\n"
          ]
        }
      ]
    },
    {
      "cell_type": "code",
      "source": [
        "# 7.Write a code to append the number 10 to the list [1, 2, 3, 4]\n",
        "my_list2=[1,2,3,4]\n",
        "print(my_list2)\n",
        "my_list2.append(10)\n",
        "print(my_list2)"
      ],
      "metadata": {
        "colab": {
          "base_uri": "https://localhost:8080/"
        },
        "id": "IhrfQT4F4RJD",
        "outputId": "e1c8a992-5af2-4ec2-a7cd-491b4065b6cf"
      },
      "execution_count": 94,
      "outputs": [
        {
          "output_type": "stream",
          "name": "stdout",
          "text": [
            "[1, 2, 3, 4]\n",
            "[1, 2, 3, 4, 10]\n"
          ]
        }
      ]
    },
    {
      "cell_type": "code",
      "source": [
        "# 8.Write a code to remove the number 3 from the list [1, 2, 3, 4, 5]\n",
        "my_list3=[1,2,3,4,5]\n",
        "my_list3.remove(3)\n",
        "print(my_list3)"
      ],
      "metadata": {
        "colab": {
          "base_uri": "https://localhost:8080/"
        },
        "id": "ZKoTIpTY4yCi",
        "outputId": "c43e2f59-cff4-4796-cad2-ded10690c742"
      },
      "execution_count": 26,
      "outputs": [
        {
          "output_type": "stream",
          "name": "stdout",
          "text": [
            "[1, 2, 4, 5]\n"
          ]
        }
      ]
    },
    {
      "cell_type": "code",
      "source": [
        "# 9. Write a code to access the second element in the list ['a', 'b', 'c', 'd']\n",
        "my_list4=[\"a\",\"b\",\"c\",\"d\"]\n",
        "print(my_list4[1])"
      ],
      "metadata": {
        "colab": {
          "base_uri": "https://localhost:8080/"
        },
        "id": "t1xpD1QC5ShA",
        "outputId": "c2755ae7-a22f-4ee8-e115-898dab00adf6"
      },
      "execution_count": 27,
      "outputs": [
        {
          "output_type": "stream",
          "name": "stdout",
          "text": [
            "b\n"
          ]
        }
      ]
    },
    {
      "cell_type": "code",
      "source": [
        "# 10. Write a code to reverse the list [10, 20, 30, 40, 50].\n",
        "my_list5=[10,20,30,40,50]\n",
        "my_list5.reverse()\n",
        "print(my_list5)"
      ],
      "metadata": {
        "colab": {
          "base_uri": "https://localhost:8080/"
        },
        "id": "RE2xykqm5mqT",
        "outputId": "25b1e668-bd01-42f5-93a9-be3ff1bf6429"
      },
      "execution_count": 28,
      "outputs": [
        {
          "output_type": "stream",
          "name": "stdout",
          "text": [
            "[50, 40, 30, 20, 10]\n"
          ]
        }
      ]
    },
    {
      "cell_type": "code",
      "source": [
        "# 11.Write a code to create a tuple with the elements 100, 200, 300 and print it.\n",
        "my_tuple=(100,200,300)\n",
        "print(my_tuple)"
      ],
      "metadata": {
        "colab": {
          "base_uri": "https://localhost:8080/"
        },
        "id": "PZjV-Ktg5SXV",
        "outputId": "de6e615a-994a-4899-be8f-953e8ba64ee8"
      },
      "execution_count": 29,
      "outputs": [
        {
          "output_type": "stream",
          "name": "stdout",
          "text": [
            "(100, 200, 300)\n"
          ]
        }
      ]
    },
    {
      "cell_type": "code",
      "source": [
        "# 12.Write a code to access the second-to-last element of the tuple ('red', 'green', 'blue', 'yellow').\n",
        "my_tuple1=(\"red\",\"green\",\"blue\",\"yellow\")\n",
        "#print(my_tuple1[-2]) # using negetive inde\n",
        "print(my_tuple1[len(my_tuple1)-2])# using positive index"
      ],
      "metadata": {
        "colab": {
          "base_uri": "https://localhost:8080/"
        },
        "id": "M1Jplwr45SRw",
        "outputId": "db11eee4-8345-4805-ec07-032bc38d8f74"
      },
      "execution_count": 93,
      "outputs": [
        {
          "output_type": "stream",
          "name": "stdout",
          "text": [
            "blue\n"
          ]
        }
      ]
    },
    {
      "cell_type": "code",
      "source": [
        "# 13.Write a code to find the minimum number in the tuple (10, 20, 5, 15).\n",
        "my_tuple2=(10,20,5,15)\n",
        "print(min(my_tuple2))"
      ],
      "metadata": {
        "colab": {
          "base_uri": "https://localhost:8080/"
        },
        "id": "rBMU6wSg7i2S",
        "outputId": "4154a66d-e7ca-420f-9cd1-89ab6a5825ae"
      },
      "execution_count": 38,
      "outputs": [
        {
          "output_type": "stream",
          "name": "stdout",
          "text": [
            "5\n"
          ]
        }
      ]
    },
    {
      "cell_type": "code",
      "source": [
        "# 14.Write a code to find the index of the element \"cat\" in the tuple ('dog', 'cat', 'rabbit').\n",
        "my_tuple3=(\"dog\",\"cat\",\"rabbit\")\n",
        "print(my_tuple3.index(\"cat\"))"
      ],
      "metadata": {
        "colab": {
          "base_uri": "https://localhost:8080/"
        },
        "id": "IQQ6_UyF4xKn",
        "outputId": "ee05d882-27e4-4633-fd2e-ce8da41a91b0"
      },
      "execution_count": 39,
      "outputs": [
        {
          "output_type": "stream",
          "name": "stdout",
          "text": [
            "1\n"
          ]
        }
      ]
    },
    {
      "cell_type": "code",
      "source": [
        "# 15. Write a code to create a tuple containing three different fruits and check if \"kiwi\" is in it.\n",
        "my_tuple4=(\"apple\",\"banana\",\"kiwi\")\n",
        "print(\"kiwi\" in my_tuple4)\n",
        "my_tuple5=(\"apple\",\"banana\",\"mango\")\n",
        "print(\"kiwi\" in my_tuple5)"
      ],
      "metadata": {
        "colab": {
          "base_uri": "https://localhost:8080/"
        },
        "id": "htxf4Kax8X1N",
        "outputId": "4bfe93ea-b8c8-41da-82fe-201b1734bc79"
      },
      "execution_count": 41,
      "outputs": [
        {
          "output_type": "stream",
          "name": "stdout",
          "text": [
            "True\n",
            "False\n"
          ]
        }
      ]
    },
    {
      "cell_type": "code",
      "source": [
        "# 16.Write a code to create a set with the elements 'a', 'b', 'c' and print it.\n",
        "set1={\"a\",\"b\",\"c\"}\n",
        "print(set1)\n",
        "\n"
      ],
      "metadata": {
        "colab": {
          "base_uri": "https://localhost:8080/"
        },
        "id": "svLdnmfY8897",
        "outputId": "984ce042-d1ea-47e1-8d54-36436638daa5"
      },
      "execution_count": 42,
      "outputs": [
        {
          "output_type": "stream",
          "name": "stdout",
          "text": [
            "{'c', 'b', 'a'}\n"
          ]
        }
      ]
    },
    {
      "cell_type": "code",
      "source": [
        "# 17. Write a code to clear all elements from the set {1, 2, 3, 4, 5}\n",
        "my_set1={1,2,3,4,5}\n",
        "print(my_set1) #checking the elements in the set\n",
        "my_set1.clear() #after clearing the element set will be empty and gives the empty set\n",
        "print(my_set1)"
      ],
      "metadata": {
        "colab": {
          "base_uri": "https://localhost:8080/"
        },
        "id": "eikyuyck887Q",
        "outputId": "c87a45b1-74ad-41d3-e8eb-834ada920bb0"
      },
      "execution_count": 92,
      "outputs": [
        {
          "output_type": "stream",
          "name": "stdout",
          "text": [
            "{1, 2, 3, 4, 5}\n",
            "set()\n"
          ]
        }
      ]
    },
    {
      "cell_type": "code",
      "source": [
        "# 18. Write a code to remove the element 4 from the set {1, 2, 3, 4}\n",
        "my_set2={1,2,3,4}\n",
        "print(\"Before removing the element 4 \", my_set2)\n",
        "my_set2.remove(4)\n",
        "print(\"After removing the element 4 \", my_set2)"
      ],
      "metadata": {
        "colab": {
          "base_uri": "https://localhost:8080/"
        },
        "id": "4lj00obA884I",
        "outputId": "00b610cc-addb-467b-8cc1-f062c8aca5e9"
      },
      "execution_count": 89,
      "outputs": [
        {
          "output_type": "stream",
          "name": "stdout",
          "text": [
            "Before removing the element 4  {1, 2, 3, 4}\n",
            "After removing the element 4  {1, 2, 3}\n"
          ]
        }
      ]
    },
    {
      "cell_type": "code",
      "source": [
        "# 19. Write a code to find the union of two sets {1, 2, 3} and {3, 4, 5}.\n",
        "my_set3 ={1,2,3}\n",
        "my_set4={3,4,5}\n",
        "print(my_set3.union(my_set4))\n"
      ],
      "metadata": {
        "colab": {
          "base_uri": "https://localhost:8080/"
        },
        "id": "6tsO_LBt8Xvo",
        "outputId": "957a6263-e7fa-4030-cd96-c9343cff8910"
      },
      "execution_count": 45,
      "outputs": [
        {
          "output_type": "stream",
          "name": "stdout",
          "text": [
            "{1, 2, 3, 4, 5}\n"
          ]
        }
      ]
    },
    {
      "cell_type": "code",
      "source": [
        "# 20. Write a code to find the intersection of two sets {1, 2, 3} and {2, 3, 4}.\n",
        "my_set5={1,2,3}\n",
        "my_set6={2,3,4}\n",
        "print(my_set5.intersection(my_set6))"
      ],
      "metadata": {
        "colab": {
          "base_uri": "https://localhost:8080/"
        },
        "id": "_UfqhkOV8Xm6",
        "outputId": "c86a4c18-5d1a-449d-ab4f-c9f9b84ff174"
      },
      "execution_count": 46,
      "outputs": [
        {
          "output_type": "stream",
          "name": "stdout",
          "text": [
            "{2, 3}\n"
          ]
        }
      ]
    },
    {
      "cell_type": "code",
      "source": [
        "# 21.Write a code to create a dictionary with the keys \"name\", \"age\", and \"city\", and print it.\n",
        "my_dict1={\"name\":\"Aladin\",\"age\":26,\"city\":\"Hyderabad\"}\n",
        "print(my_dict1)"
      ],
      "metadata": {
        "colab": {
          "base_uri": "https://localhost:8080/"
        },
        "id": "oK58Nm3oBZyH",
        "outputId": "14e5160c-9642-45a6-e216-c57f9c5abcb8"
      },
      "execution_count": 47,
      "outputs": [
        {
          "output_type": "stream",
          "name": "stdout",
          "text": [
            "{'name': 'Aladin', 'age': 26, 'city': 'Hyderabad'}\n"
          ]
        }
      ]
    },
    {
      "cell_type": "code",
      "source": [
        "# 22. Write a code to add a new key-value pair \"country\": \"USA\" to the dictionary {'name': 'John', 'age': 25}.\n",
        "my_dict2={\"name\": \"john\",\"age\":25}\n",
        "print(my_dict2)\n",
        "my_dict2[\"country\"]=\"USA\"\n",
        "print(my_dict2)"
      ],
      "metadata": {
        "colab": {
          "base_uri": "https://localhost:8080/"
        },
        "id": "hT0tHiFVBZuv",
        "outputId": "edfab9c7-ebb3-4b8b-d6c4-52ccbac52c0c"
      },
      "execution_count": 82,
      "outputs": [
        {
          "output_type": "stream",
          "name": "stdout",
          "text": [
            "{'name': 'john', 'age': 25}\n",
            "{'name': 'john', 'age': 25, 'country': 'USA'}\n"
          ]
        }
      ]
    },
    {
      "cell_type": "code",
      "source": [
        "# 23.  Write a code to access the value associated with the key \"name\" in the dictionary {'name': 'Alice', 'age': 30}.\n",
        "my_dict3= {\"name\":\"Alice\",\"age\":30}\n",
        "print(my_dict3[\"name\"])"
      ],
      "metadata": {
        "colab": {
          "base_uri": "https://localhost:8080/"
        },
        "id": "niGrUwiaBZsF",
        "outputId": "7458dd48-a934-435b-f040-341608869aeb"
      },
      "execution_count": 50,
      "outputs": [
        {
          "output_type": "stream",
          "name": "stdout",
          "text": [
            "Alice\n"
          ]
        }
      ]
    },
    {
      "cell_type": "code",
      "source": [
        "# 24.Write a code to remove the key \"age\" from the dictionary {'name': 'Bob', 'age': 22, 'city': 'New York'}.\n",
        "my_dict4 ={\"name\":\"Bob\", \"age\": 22, \"city\": \"New York\"}\n",
        "print(my_dict4)\n",
        "# del my_dict4[\"age\"]\n",
        "my_dict4.pop(\"age\")\n",
        "\n",
        "print(my_dict4)"
      ],
      "metadata": {
        "colab": {
          "base_uri": "https://localhost:8080/"
        },
        "id": "dQxxHF6VBZpo",
        "outputId": "5aee5ab4-7423-43a1-e218-8617ccfe1d9e"
      },
      "execution_count": 55,
      "outputs": [
        {
          "output_type": "stream",
          "name": "stdout",
          "text": [
            "{'name': 'Bob', 'age': 22, 'city': 'New York'}\n",
            "{'name': 'Bob', 'city': 'New York'}\n"
          ]
        }
      ]
    },
    {
      "cell_type": "code",
      "source": [
        "# 25. Write a code to check if the key \"city\" exists in the dictionary {'name': 'Alice', 'city': 'Paris'}.\n",
        "my_dict5={\"name\":\"Alice\",\"city\":\"Paris\"}\n",
        "if (\"city\" in my_dict5) == True:\n",
        "    print(\"Key 'city' exists in the dictionary.\")\n",
        "else:\n",
        "    print(\"Key 'city' does not exist in the dictionary.\")"
      ],
      "metadata": {
        "colab": {
          "base_uri": "https://localhost:8080/"
        },
        "id": "YiSYRklJBZng",
        "outputId": "52b303bd-49fb-4a0b-e771-58bc3f6d25b3"
      },
      "execution_count": 81,
      "outputs": [
        {
          "output_type": "stream",
          "name": "stdout",
          "text": [
            "Key 'city' exists in the dictionary.\n"
          ]
        }
      ]
    },
    {
      "cell_type": "code",
      "source": [
        "# 26.Write a code to create a list, a tuple, and a dictionary, and print them all.\n",
        "my_list6 = [\"Aladin\",6,True,5.8]\n",
        "my_tuple6=(\"Aladin\",6,True,5.8)\n",
        "my_dict6={\"name\":\"Aladin\",\"age\":26,\"city\":\"Hyderabad\"}\n",
        "print(my_list6)\n",
        "print(my_tuple6)\n",
        "print(my_dict6)"
      ],
      "metadata": {
        "colab": {
          "base_uri": "https://localhost:8080/"
        },
        "id": "gPX7bGfKBZkq",
        "outputId": "8b2c24cc-24fb-46c1-8d56-4837eb4caf25"
      },
      "execution_count": 57,
      "outputs": [
        {
          "output_type": "stream",
          "name": "stdout",
          "text": [
            "['Aladin', 6, True, 5.8]\n",
            "('Aladin', 6, True, 5.8)\n",
            "{'name': 'Aladin', 'age': 26, 'city': 'Hyderabad'}\n"
          ]
        }
      ]
    },
    {
      "cell_type": "code",
      "source": [
        "# 27.Write a code to create a list of 5 random numbers between 1 and 100, sort it in ascending order, and print the result.\n",
        "import random\n",
        "\n",
        "my_list7 = [random.randint(1, 100) for i in range(5)]\n",
        "my_list7.sort()\n",
        "print(my_list7)"
      ],
      "metadata": {
        "colab": {
          "base_uri": "https://localhost:8080/"
        },
        "id": "ftLPHWcSBZhT",
        "outputId": "ac85330a-1c04-439a-f064-90088d9f9b95"
      },
      "execution_count": 66,
      "outputs": [
        {
          "output_type": "stream",
          "name": "stdout",
          "text": [
            "[11, 48, 54, 66, 95]\n"
          ]
        }
      ]
    },
    {
      "cell_type": "code",
      "source": [
        "# 28. Write a code to create a list with strings and print the element at the third index\n",
        "my_list9 = [\"apple\",\"banana\",\"orange\",\"mango\",\"kiwi\"]\n",
        "print(my_list9[2]) # to get the element at third index\n",
        "print(my_list9[3]) # to get the element of index 3"
      ],
      "metadata": {
        "colab": {
          "base_uri": "https://localhost:8080/"
        },
        "id": "zUxapVr4BZfH",
        "outputId": "a3595757-b4db-4ae1-da4a-b57eba9abcba"
      },
      "execution_count": 68,
      "outputs": [
        {
          "output_type": "stream",
          "name": "stdout",
          "text": [
            "orange\n",
            "mango\n"
          ]
        }
      ]
    },
    {
      "cell_type": "code",
      "source": [
        "# 29.Write a code to combine two dictionaries into one and print the result.\n",
        "d1 ={\"name\":\"Aladin\",\"Age\":30, \"location\":\"Banglore\"}\n",
        "d2= {\"maths\":66,\"science\":98,\"social\":56}\n",
        "print(d1)\n",
        "print(d2)\n",
        "# update() method can be used to merge dictionaries. It modifies one dictionary by adding or updating key-value pairs from another.\n",
        "d1.update(d2)\n",
        "print(d1)\n",
        "# | operator introduced in Python 3.9 can be used to merge dictionaries. It creates a new dictionary without modifying the original dictionary.\n",
        "d3 = d1 | d2\n",
        "print(d3)\n",
        "# Using Dictionary Unpacking (**)\n",
        "d4 = {**d1, **d2}\n",
        "print(d4)\n",
        "# Using Loop\n",
        "d5 = d1.copy()\n",
        "for key, value in d2.items():\n",
        "    d5[key] = value\n",
        "print(d5)"
      ],
      "metadata": {
        "colab": {
          "base_uri": "https://localhost:8080/"
        },
        "id": "rsnSleRuBZch",
        "outputId": "79924335-128b-4975-dced-4692a2aea820"
      },
      "execution_count": 75,
      "outputs": [
        {
          "output_type": "stream",
          "name": "stdout",
          "text": [
            "{'name': 'Aladin', 'Age': 30, 'location': 'Banglore'}\n",
            "{'maths': 66, 'science': 98, 'social': 56}\n",
            "{'name': 'Aladin', 'Age': 30, 'location': 'Banglore', 'maths': 66, 'science': 98, 'social': 56}\n",
            "{'name': 'Aladin', 'Age': 30, 'location': 'Banglore', 'maths': 66, 'science': 98, 'social': 56}\n",
            "{'name': 'Aladin', 'Age': 30, 'location': 'Banglore', 'maths': 66, 'science': 98, 'social': 56}\n",
            "{'name': 'Aladin', 'Age': 30, 'location': 'Banglore', 'maths': 66, 'science': 98, 'social': 56}\n"
          ]
        }
      ]
    },
    {
      "cell_type": "code",
      "source": [
        "# 30. Write a code to convert a list of strings into a set.\n",
        "list10= [\"apple\",\"banana\",\"orange\",\"mango\",\"kiwi\"]\n",
        "set10=set(list10)\n",
        "print(set10)\n"
      ],
      "metadata": {
        "colab": {
          "base_uri": "https://localhost:8080/"
        },
        "id": "BzpQFrrsBZYZ",
        "outputId": "419f5a6b-a10a-4574-eaf0-90f70dece0d1"
      },
      "execution_count": 76,
      "outputs": [
        {
          "output_type": "stream",
          "name": "stdout",
          "text": [
            "{'apple', 'banana', 'kiwi', 'mango', 'orange'}\n"
          ]
        }
      ]
    },
    {
      "cell_type": "code",
      "source": [],
      "metadata": {
        "id": "WsAOYCbXBZVa"
      },
      "execution_count": null,
      "outputs": []
    }
  ]
}